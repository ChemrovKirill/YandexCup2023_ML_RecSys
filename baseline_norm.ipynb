{
 "cells": [
  {
   "cell_type": "code",
   "execution_count": 1,
   "id": "30f90a09",
   "metadata": {},
   "outputs": [
    {
     "name": "stdout",
     "output_type": "stream",
     "text": [
      "pytorch version: 2.2.0.dev20231027+cu121\n",
      "Device: cuda:0\n"
     ]
    }
   ],
   "source": [
    "import warnings\n",
    "warnings.filterwarnings(\"ignore\")\n",
    "from tqdm import tqdm\n",
    "from glob import glob\n",
    "\n",
    "import numpy as np\n",
    "import pandas as pd\n",
    "\n",
    "import torch\n",
    "import torch.nn as nn\n",
    "print('pytorch version:', torch.__version__)\n",
    "global_device = torch.device(\"cuda:0\" if torch.cuda.is_available() else \"cpu\")\n",
    "print('Device:', global_device)\n",
    "from torch.utils.data import DataLoader, random_split, Dataset\n",
    "\n",
    "from sklearn.model_selection import train_test_split\n",
    "from sklearn.metrics import average_precision_score\n",
    "\n",
    "import pytorch_lightning as pl\n",
    "from pytorch_lightning.callbacks import ModelCheckpoint\n",
    "from torchmetrics.classification import MultilabelAveragePrecision"
   ]
  },
  {
   "cell_type": "code",
   "execution_count": 93,
   "id": "91f28206",
   "metadata": {},
   "outputs": [],
   "source": [
    "# Matplotlib settings\n",
    "import matplotlib\n",
    "import matplotlib as mp\n",
    "import matplotlib.pyplot as plt\n",
    "from matplotlib import cm\n",
    "from mpl_toolkits.mplot3d import Axes3D\n",
    "from matplotlib.collections import PolyCollection\n",
    "from matplotlib.colors import colorConverter\n",
    "\n",
    "titlesize = 20\n",
    "labelsize = 16\n",
    "legendsize = labelsize\n",
    "xticksize = 14\n",
    "yticksize = xticksize\n",
    "\n",
    "matplotlib.rcParams['legend.markerscale'] = 1.5     # the relative size of legend markers vs. original\n",
    "matplotlib.rcParams['legend.handletextpad'] = 0.5\n",
    "matplotlib.rcParams['legend.labelspacing'] = 0.4    # the vertical space between the legend entries in fraction of fontsize\n",
    "matplotlib.rcParams['legend.borderpad'] = 0.5       # border whitespace in fontsize units\n",
    "matplotlib.rcParams['font.size'] = 12\n",
    "matplotlib.rcParams['font.family'] = 'serif'\n",
    "matplotlib.rcParams['font.serif'] = 'Times New Roman'\n",
    "matplotlib.rcParams['axes.labelsize'] = labelsize\n",
    "matplotlib.rcParams['axes.titlesize'] = titlesize\n",
    "\n",
    "matplotlib.rc('xtick', labelsize=xticksize)\n",
    "matplotlib.rc('ytick', labelsize=yticksize)\n",
    "matplotlib.rc('legend', fontsize=legendsize)\n",
    "\n",
    "matplotlib.rc('font', **{'family':'serif'})"
   ]
  },
  {
   "cell_type": "markdown",
   "id": "b94d3879",
   "metadata": {},
   "source": [
    "# Data loading"
   ]
  },
  {
   "cell_type": "code",
   "execution_count": 94,
   "id": "487259db",
   "metadata": {},
   "outputs": [],
   "source": [
    "df_trainval = pd.read_csv('data/train.csv')\n",
    "df_train, df_val = train_test_split(df_trainval, test_size=0.2, random_state=42)\n",
    "df_train['tags'] = df_train['tags'].apply(lambda x: np.array(list(map(int, x.split(',')))))\n",
    "df_val['tags'] = df_val['tags'].apply(lambda x: np.array(list(map(int, x.split(',')))))\n",
    "\n",
    "df_test = pd.read_csv('data/test.csv')"
   ]
  },
  {
   "cell_type": "code",
   "execution_count": 95,
   "id": "207ca2a1",
   "metadata": {},
   "outputs": [
    {
     "name": "stderr",
     "output_type": "stream",
     "text": [
      "100%|██████████| 76714/76714 [01:25<00:00, 893.81it/s]\n"
     ]
    }
   ],
   "source": [
    "global_idx2embeds = {} # {idx: np.ndarray[n, 768])}\n",
    "for npy_file in tqdm(glob('data/track_embeddings/*')):\n",
    "    track_idx = int(npy_file.split('\\\\')[1].split('.')[0])\n",
    "    embeds = np.load(npy_file)\n",
    "    global_idx2embeds[track_idx] = embeds"
   ]
  },
  {
   "cell_type": "code",
   "execution_count": 96,
   "metadata": {},
   "outputs": [
    {
     "name": "stderr",
     "output_type": "stream",
     "text": []
    },
    {
     "name": "stderr",
     "output_type": "stream",
     "text": [
      "100%|██████████| 40907/40907 [00:37<00:00, 1079.67it/s]\n"
     ]
    },
    {
     "data": {
      "text/plain": [
       "(768,)"
      ]
     },
     "execution_count": 96,
     "metadata": {},
     "output_type": "execute_result"
    }
   ],
   "source": [
    "emb_train_mean = 0\n",
    "for track_idx in tqdm(df_train['track']):\n",
    "    emb_train_mean += global_idx2embeds[track_idx].mean(axis=0)\n",
    "emb_train_mean /= len(df_train['track'])\n",
    "emb_train_mean.shape"
   ]
  },
  {
   "cell_type": "code",
   "execution_count": 97,
   "id": "679a2730",
   "metadata": {},
   "outputs": [],
   "source": [
    "num_of_tags = np.zeros(256)\n",
    "for tags in df_train['tags'].to_list():\n",
    "    onehot_tags = np.zeros(256)\n",
    "    onehot_tags[tags] = 1\n",
    "    num_of_tags += onehot_tags"
   ]
  },
  {
   "cell_type": "code",
   "execution_count": 57,
   "metadata": {},
   "outputs": [],
   "source": [
    "def tag_in_row(a, tag):\n",
    "    idxs = []\n",
    "    for i, row in enumerate(a):\n",
    "        if tag in row:\n",
    "            idxs.append(i)\n",
    "    return idxs"
   ]
  },
  {
   "cell_type": "code",
   "execution_count": 87,
   "metadata": {},
   "outputs": [
    {
     "data": {
      "text/plain": [
       "84307"
      ]
     },
     "execution_count": 87,
     "metadata": {},
     "output_type": "execute_result"
    }
   ],
   "source": [
    "def tag_in_row(a, tag):\n",
    "    idxs = []\n",
    "    for i, row in enumerate(a):\n",
    "        if tag in row:\n",
    "            idxs.append(i)\n",
    "    return idxs\n",
    "\n",
    "df_train_pos = df_train.iloc[tag_in_row(df_train['tags'], 209)]\n",
    "df_train = df_train.iloc[range(22000)]\n",
    "for i in range(100):\n",
    "    df_train = pd.concat([df_train, df_train_pos], ignore_index=True)\n",
    "df_train = df_train.sample(frac=1).reset_index(drop=True)\n",
    "len(df_train)"
   ]
  },
  {
   "cell_type": "code",
   "execution_count": 102,
   "id": "d838b48e",
   "metadata": {},
   "outputs": [],
   "source": [
    "class TrackDataset(torch.utils.data.Dataset):\n",
    "    def __init__(self, df_tags, test=False):\n",
    "        self.df_tags = df_tags\n",
    "        self.test = test\n",
    "\n",
    "    def __len__(self):\n",
    "        return len(self.df_tags)\n",
    "\n",
    "    def __getitem__(self, idx):\n",
    "        track_idx = self.df_tags.iloc[idx]['track']\n",
    "        embeds = global_idx2embeds[track_idx]\n",
    "        if self.test:\n",
    "            return track_idx, embeds\n",
    "        labels_onehot = np.zeros(256)\n",
    "        labels_onehot[self.df_tags.iloc[idx]['tags']] = 1\n",
    "        return track_idx, embeds, labels_onehot"
   ]
  },
  {
   "cell_type": "code",
   "execution_count": 103,
   "id": "85173d34",
   "metadata": {},
   "outputs": [],
   "source": [
    "def collate(batch):\n",
    "    track_idxs = torch.IntTensor(np.vstack([triplet[0] for triplet in batch]))\n",
    "    embeds_list = [torch.FloatTensor(triplet[1] - emb_train_mean).to(global_device) for triplet in batch]\n",
    "    labels_onehot = torch.FloatTensor(np.vstack([triplet[2][0] for triplet in batch])).to(global_device)\n",
    "    return track_idxs, embeds_list, labels_onehot\n",
    "\n",
    "def collate_test(batch):\n",
    "    track_idxs = torch.IntTensor(np.vstack([triplet[0] for triplet in batch]))\n",
    "    embeds_list = [torch.FloatTensor(triplet[1] - emb_train_mean).to(global_device) for triplet in batch]\n",
    "    return track_idxs, embeds_list\n",
    "\n",
    "batch_size = 256\n",
    "\n",
    "dataset_train = TrackDataset(df_train)\n",
    "dataloader_train = DataLoader(dataset_train, batch_size, shuffle=True, collate_fn=collate)\n",
    "\n",
    "dataset_val = TrackDataset(df_val)\n",
    "dataloader_val = DataLoader(dataset_val, batch_size, shuffle=False, collate_fn=collate)\n",
    "dataloader_valtest = DataLoader(dataset_val, batch_size, shuffle=False, collate_fn=collate_test)\n",
    "\n",
    "dataset_test = TrackDataset(df_test, test=True)\n",
    "dataloader_test = DataLoader(dataset_test, batch_size, shuffle=False, collate_fn=collate_test)"
   ]
  },
  {
   "cell_type": "code",
   "execution_count": 109,
   "id": "68675c26",
   "metadata": {},
   "outputs": [],
   "source": [
    "class TrackToTags(pl.LightningModule):\n",
    "    def __init__(self, num_classes=256, input_dim=768, hidden_dim=512):\n",
    "        super().__init__()\n",
    "        self.num_classes = num_classes\n",
    "        self.bn = nn.LayerNorm(hidden_dim)\n",
    "        self.projector =  nn.Linear(input_dim, hidden_dim)\n",
    "        self.lin = nn.Sequential(\n",
    "            nn.Linear(hidden_dim, hidden_dim),\n",
    "            nn.ReLU(),\n",
    "            nn.Linear(hidden_dim, hidden_dim),\n",
    "            nn.LayerNorm(hidden_dim)\n",
    "        )\n",
    "        self.fc = nn.Linear(hidden_dim, num_classes)\n",
    "\n",
    "        self.pos_weights = torch.FloatTensor(np.ones(256)).to(global_device)\n",
    "        self.loss = nn.BCEWithLogitsLoss(pos_weight=self.pos_weights)\n",
    "\n",
    "        self.metric = average_precision_score\n",
    "        self._transit_val = {'preds': [], 'labels': []}\n",
    "        \n",
    "    def forward(self, embeds_list):\n",
    "        x = [self.projector(x) for x in embeds_list]\n",
    "        x = [v.mean(0).unsqueeze(0) for v in x]\n",
    "        x = self.bn(torch.cat(x, dim = 0))\n",
    "        x = self.lin(x)\n",
    "        outs = self.fc(x)\n",
    "        return outs\n",
    "\n",
    "    def training_step(self, batch, batch_idx):\n",
    "        track_idxs, embeds_list, labels_onehot = batch\n",
    "        pred_logits = self(embeds_list)\n",
    "        loss = self.loss(pred_logits, labels_onehot)\n",
    "        self.log(\"train_loss\", loss, prog_bar=True)\n",
    "        return loss\n",
    "    \n",
    "    def validation_step(self, batch, batch_idx):\n",
    "        track_idxs, embeds_list, labels_onehot = batch\n",
    "        pred_logits = self(embeds_list)\n",
    "        loss = self.loss(pred_logits, labels_onehot)\n",
    "        self.log(\"val_loss\", loss, prog_bar=True)\n",
    "        \n",
    "        pred_probs = torch.sigmoid(pred_logits)\n",
    "        self._transit_val['labels'].append(np.array(labels_onehot.int().cpu()))\n",
    "        self._transit_val['preds'].append(np.array(pred_probs.cpu()))\n",
    "\n",
    "    def on_validation_epoch_end(self):\n",
    "        preds = np.vstack(self._transit_val['preds'])\n",
    "        labels = np.vstack(self._transit_val['labels'])\n",
    "        ap = self.metric(labels, preds)\n",
    "        self.log('val_ap', ap, prog_bar=True)\n",
    "        self._transit_val['labels'] = []\n",
    "        self._transit_val['preds'] = []\n",
    "\n",
    "    def configure_optimizers(self):\n",
    "        optimizer = torch.optim.Adam(self.parameters(), lr=3e-4)\n",
    "        scheduler = torch.optim.lr_scheduler.ExponentialLR(optimizer, 0.5)\n",
    "        \n",
    "        return {\"optimizer\": optimizer,\n",
    "                \"lr_scheduler\": {\n",
    "                                \"scheduler\": scheduler,\n",
    "                                \"interval\": \"epoch\",\n",
    "                                \"frequency\": 10\n",
    "                                },\n",
    "               }"
   ]
  },
  {
   "cell_type": "code",
   "execution_count": 110,
   "metadata": {},
   "outputs": [],
   "source": [
    "model = TrackToTags.load_from_checkpoint('lightning_logs/baseline_norm/epoch=19-val_loss=0.046-val_ap=0.225.ckpt')"
   ]
  },
  {
   "cell_type": "code",
   "execution_count": 91,
   "id": "61f1dc1d",
   "metadata": {
    "scrolled": false
   },
   "outputs": [
    {
     "name": "stderr",
     "output_type": "stream",
     "text": [
      "GPU available: True (cuda), used: True\n",
      "TPU available: False, using: 0 TPU cores\n",
      "IPU available: False, using: 0 IPUs\n",
      "HPU available: False, using: 0 HPUs\n",
      "`Trainer(val_check_interval=1.0)` was configured so validation will run at the end of the training epoch..\n"
     ]
    },
    {
     "name": "stderr",
     "output_type": "stream",
     "text": [
      "LOCAL_RANK: 0 - CUDA_VISIBLE_DEVICES: [0]\n",
      "\n",
      "  | Name      | Type              | Params\n",
      "------------------------------------------------\n",
      "0 | bn        | LayerNorm         | 1.0 K \n",
      "1 | projector | Linear            | 393 K \n",
      "2 | lin       | Sequential        | 164 K \n",
      "3 | fc        | Linear            | 129   \n",
      "4 | loss      | BCEWithLogitsLoss | 0     \n",
      "------------------------------------------------\n",
      "559 K     Trainable params\n",
      "0         Non-trainable params\n",
      "559 K     Total params\n",
      "2.237     Total estimated model params size (MB)\n"
     ]
    },
    {
     "name": "stdout",
     "output_type": "stream",
     "text": [
      "Epoch 13:  32%|███▏      | 106/330 [00:30<01:05,  3.44it/s, v_num=130, train_loss=3.72e-5, val_loss=0.0657, val_ap=0.0134] "
     ]
    }
   ],
   "source": [
    "checkpoint_callback = ModelCheckpoint(dirpath='lightning_logs/baseline_norm_label209/',\n",
    "                                      filename='{epoch}-{val_loss:.3f}-{val_ap:.3f}', \n",
    "                                      save_top_k=-1, \n",
    "                                      monitor=\"val_ap\", \n",
    "                                      every_n_epochs=1)\n",
    "trainer = pl.Trainer(accelerator=\"gpu\", devices=1, val_check_interval=1.0, \n",
    "                     max_epochs=20, log_every_n_steps=100,\n",
    "                     callbacks=[checkpoint_callback])\n",
    "model = TrackToTags()\n",
    "trainer.fit(model, dataloader_train, dataloader_val)"
   ]
  },
  {
   "cell_type": "code",
   "execution_count": 111,
   "id": "f2eddd31",
   "metadata": {},
   "outputs": [],
   "source": [
    "def predict(model, loader):\n",
    "    model.to(global_device)\n",
    "    model.eval()\n",
    "    track_idxs = []\n",
    "    predictions = []\n",
    "    with torch.no_grad():\n",
    "        for data in loader:\n",
    "            track_idx, embeds = data\n",
    "            embeds = [x.to(global_device) for x in embeds]\n",
    "            pred_logits = model(embeds)\n",
    "            pred_probs = torch.sigmoid(pred_logits)\n",
    "            predictions.append(pred_probs.cpu().numpy())\n",
    "            track_idxs.append(track_idx.numpy())\n",
    "    predictions = np.vstack(predictions)\n",
    "    track_idxs = np.vstack(track_idxs).ravel()\n",
    "    return track_idxs, predictions"
   ]
  },
  {
   "cell_type": "code",
   "execution_count": 112,
   "metadata": {},
   "outputs": [],
   "source": [
    "val_true = np.array([y[2] for y in dataset_val])\n",
    "track_idxs_val, val_pred = predict(model, dataloader_valtest)"
   ]
  },
  {
   "cell_type": "code",
   "execution_count": 115,
   "metadata": {},
   "outputs": [
    {
     "data": {
      "text/plain": [
       "0.32165612764046464"
      ]
     },
     "execution_count": 115,
     "metadata": {},
     "output_type": "execute_result"
    }
   ],
   "source": [
    "average_precision_score(val_true, val_pred)"
   ]
  },
  {
   "cell_type": "code",
   "execution_count": 116,
   "metadata": {},
   "outputs": [],
   "source": [
    "label2ap = []\n",
    "for label in range(256):\n",
    "    label2ap.append(average_precision_score(val_true[:,label], val_pred[:,label]))"
   ]
  },
  {
   "cell_type": "code",
   "execution_count": 124,
   "metadata": {},
   "outputs": [
    {
     "data": {
      "text/plain": [
       "0.09887906591599901"
      ]
     },
     "execution_count": 124,
     "metadata": {},
     "output_type": "execute_result"
    }
   ],
   "source": [
    "label2ap[209]"
   ]
  },
  {
   "cell_type": "code",
   "execution_count": 21,
   "metadata": {},
   "outputs": [
    {
     "data": {
      "text/plain": [
       "Text(0.5, 0, 'label')"
      ]
     },
     "execution_count": 21,
     "metadata": {},
     "output_type": "execute_result"
    },
    {
     "data": {
      "image/png": "[encoded data removed]",
      "text/plain": [
       "<Figure size 640x480 with 1 Axes>"
      ]
     },
     "metadata": {},
     "output_type": "display_data"
    }
   ],
   "source": [
    "plt.bar(range(256), label2ap)\n",
    "plt.title(\"average precision per label\")\n",
    "plt.ylabel(\"average precision\")\n",
    "plt.xlabel(\"label\")"
   ]
  },
  {
   "cell_type": "code",
   "execution_count": 113,
   "id": "7fa9a03b",
   "metadata": {},
   "outputs": [
    {
     "data": {
      "text/plain": [
       "0.32165612764046464"
      ]
     },
     "execution_count": 113,
     "metadata": {},
     "output_type": "execute_result"
    }
   ],
   "source": [
    "average_precision_score(val_true, val_pred)"
   ]
  },
  {
   "cell_type": "code",
   "execution_count": 117,
   "metadata": {},
   "outputs": [
    {
     "data": {
      "text/plain": [
       "0.32165612764046464"
      ]
     },
     "execution_count": 117,
     "metadata": {},
     "output_type": "execute_result"
    }
   ],
   "source": [
    "np.mean(label2ap)"
   ]
  },
  {
   "cell_type": "code",
   "execution_count": 26,
   "metadata": {},
   "outputs": [
    {
     "data": {
      "text/plain": [
       "(209, 0.026990625321978212)"
      ]
     },
     "execution_count": 26,
     "metadata": {},
     "output_type": "execute_result"
    }
   ],
   "source": [
    "np.argmin(label2ap), np.min(label2ap)\n"
   ]
  },
  {
   "cell_type": "code",
   "execution_count": 56,
   "id": "09dd062d",
   "metadata": {},
   "outputs": [
    {
     "data": {
      "text/plain": [
       "(10227, 256)"
      ]
     },
     "execution_count": 56,
     "metadata": {},
     "output_type": "execute_result"
    }
   ],
   "source": [
    "val_true.shape"
   ]
  },
  {
   "cell_type": "code",
   "execution_count": 54,
   "id": "2bf1ba7b",
   "metadata": {},
   "outputs": [
    {
     "data": {
      "text/plain": [
       "0.2785028297836928"
      ]
     },
     "execution_count": 54,
     "metadata": {},
     "output_type": "execute_result"
    }
   ],
   "source": [
    "average_precision_score(val_true[:100], val_pred[:100], default=\"macro\")"
   ]
  },
  {
   "cell_type": "code",
   "execution_count": 70,
   "id": "067b1acb",
   "metadata": {},
   "outputs": [],
   "source": [
    "track_idxs, predictions = predict(model.to(global_device), dataloader_test)"
   ]
  },
  {
   "cell_type": "code",
   "execution_count": 72,
   "id": "718719fa",
   "metadata": {
    "scrolled": true
   },
   "outputs": [],
   "source": [
    "predictions_df = pd.DataFrame([\n",
    "    {'track': track, 'prediction': ','.join([str(p) for p in probs])}\n",
    "    for track, probs in zip(track_idxs, predictions)\n",
    "])\n",
    "predictions_df.to_csv('prediction.csv', index=False)"
   ]
  }
 ],
 "metadata": {
  "kernelspec": {
   "display_name": "Python 3 (ipykernel)",
   "language": "python",
   "name": "python3"
  },
  "language_info": {
   "codemirror_mode": {
    "name": "ipython",
    "version": 3
   },
   "file_extension": ".py",
   "mimetype": "text/x-python",
   "name": "python",
   "nbconvert_exporter": "python",
   "pygments_lexer": "ipython3",
   "version": "3.11.5"
  }
 },
 "nbformat": 4,
 "nbformat_minor": 5
}
