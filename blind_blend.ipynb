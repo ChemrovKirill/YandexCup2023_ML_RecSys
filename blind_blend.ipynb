{
 "cells": [
  {
   "cell_type": "code",
   "execution_count": 1,
   "id": "30f90a09",
   "metadata": {},
   "outputs": [],
   "source": [
    "import warnings\n",
    "warnings.filterwarnings(\"ignore\")\n",
    "from tqdm import tqdm\n",
    "from glob import glob\n",
    "\n",
    "import numpy as np\n",
    "import pandas as pd\n"
   ]
  },
  {
   "cell_type": "code",
   "execution_count": 92,
   "metadata": {},
   "outputs": [],
   "source": [
    "df1 = pd.read_csv(\"results/prediction_gru2pool20.csv\")\n",
    "df2 = pd.read_csv(\"results/prediction_s1.csv\")\n",
    "df3 = pd.read_csv(\"results/prediction_mod1.csv\")\n",
    "df4 = pd.read_csv(\"results/prediction_mod3.csv\")\n",
    "df5 = pd.read_csv(\"results/prediction_val0249.csv\")\n",
    "df6 = pd.read_csv(\"results/prediction_gru70.csv\")\n",
    "df7 = pd.read_csv(\"results/prediction_s2.csv\")\n",
    "df8 = pd.read_csv(\"results/prediction_s3.csv\")\n",
    "dfnew = df1"
   ]
  },
  {
   "cell_type": "code",
   "execution_count": 93,
   "metadata": {},
   "outputs": [
    {
     "name": "stderr",
     "output_type": "stream",
     "text": [
      "100%|██████████| 25580/25580 [00:34<00:00, 742.99it/s]\n"
     ]
    }
   ],
   "source": [
    "for i in tqdm(range(len(df1))):\n",
    "    probs1 = np.array(list(map(float, df1['prediction'][i].split(','))))\n",
    "    probs2 = np.array(list(map(float, df2['prediction'][i].split(','))))\n",
    "    probs3 = np.array(list(map(float, df3['prediction'][i].split(','))))\n",
    "    probs4 = np.array(list(map(float, df4['prediction'][i].split(','))))\n",
    "    probs5 = np.array(list(map(float, df5['prediction'][i].split(','))))\n",
    "    probs6 = np.array(list(map(float, df6['prediction'][i].split(','))))\n",
    "    probs7 = np.array(list(map(float, df7['prediction'][i].split(','))))\n",
    "    probs = (probs1 + probs2 + probs3 + probs4 + probs5 + probs6 + probs7)/7\n",
    "    dfnew['prediction'][i] = ','.join([str(p) for p in probs])\n"
   ]
  },
  {
   "cell_type": "code",
   "execution_count": 94,
   "metadata": {},
   "outputs": [],
   "source": [
    "dfnew.to_csv(\"results/prediction_comb_all7_gru70.csv\", index=False)"
   ]
  }
 ],
 "metadata": {
  "kernelspec": {
   "display_name": "Python 3 (ipykernel)",
   "language": "python",
   "name": "python3"
  },
  "language_info": {
   "codemirror_mode": {
    "name": "ipython",
    "version": 3
   },
   "file_extension": ".py",
   "mimetype": "text/x-python",
   "name": "python",
   "nbconvert_exporter": "python",
   "pygments_lexer": "ipython3",
   "version": "3.11.5"
  }
 },
 "nbformat": 4,
 "nbformat_minor": 5
}
