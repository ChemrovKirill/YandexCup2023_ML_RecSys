{
 "cells": [
  {
   "cell_type": "code",
   "execution_count": 1,
   "id": "30f90a09",
   "metadata": {},
   "outputs": [
    {
     "name": "stdout",
     "output_type": "stream",
     "text": [
      "pytorch version: 2.2.0.dev20231027+cu121\n",
      "Device: cuda:0\n"
     ]
    }
   ],
   "source": [
    "import warnings\n",
    "warnings.filterwarnings(\"ignore\")\n",
    "from tqdm import tqdm\n",
    "from glob import glob\n",
    "\n",
    "import numpy as np\n",
    "import pandas as pd\n",
    "\n",
    "import torch\n",
    "import torch.nn as nn\n",
    "print('pytorch version:', torch.__version__)\n",
    "global_device = torch.device(\"cuda:0\" if torch.cuda.is_available() else \"cpu\")\n",
    "print('Device:', global_device)\n",
    "from torch.utils.data import DataLoader, random_split, Dataset\n",
    "from torch.nn.utils.rnn import pack_sequence, pad_packed_sequence\n",
    "\n",
    "from sklearn.model_selection import train_test_split\n",
    "from sklearn.metrics import average_precision_score\n",
    "\n",
    "import pytorch_lightning as pl\n",
    "from pytorch_lightning.callbacks import ModelCheckpoint\n",
    "from torchmetrics.classification import MultilabelAveragePrecision"
   ]
  },
  {
   "cell_type": "code",
   "execution_count": 2,
   "id": "91f28206",
   "metadata": {},
   "outputs": [],
   "source": [
    "# Matplotlib settings\n",
    "import matplotlib\n",
    "import matplotlib as mp\n",
    "import matplotlib.pyplot as plt\n",
    "from matplotlib import cm\n",
    "from mpl_toolkits.mplot3d import Axes3D\n",
    "from matplotlib.collections import PolyCollection\n",
    "from matplotlib.colors import colorConverter\n",
    "\n",
    "titlesize = 20\n",
    "labelsize = 16\n",
    "legendsize = labelsize\n",
    "xticksize = 14\n",
    "yticksize = xticksize\n",
    "\n",
    "matplotlib.rcParams['legend.markerscale'] = 1.5     # the relative size of legend markers vs. original\n",
    "matplotlib.rcParams['legend.handletextpad'] = 0.5\n",
    "matplotlib.rcParams['legend.labelspacing'] = 0.4    # the vertical space between the legend entries in fraction of fontsize\n",
    "matplotlib.rcParams['legend.borderpad'] = 0.5       # border whitespace in fontsize units\n",
    "matplotlib.rcParams['font.size'] = 12\n",
    "matplotlib.rcParams['font.family'] = 'serif'\n",
    "matplotlib.rcParams['font.serif'] = 'Times New Roman'\n",
    "matplotlib.rcParams['axes.labelsize'] = labelsize\n",
    "matplotlib.rcParams['axes.titlesize'] = titlesize\n",
    "\n",
    "matplotlib.rc('xtick', labelsize=xticksize)\n",
    "matplotlib.rc('ytick', labelsize=yticksize)\n",
    "matplotlib.rc('legend', fontsize=legendsize)\n",
    "\n",
    "matplotlib.rc('font', **{'family':'serif'})"
   ]
  },
  {
   "cell_type": "markdown",
   "id": "b94d3879",
   "metadata": {},
   "source": [
    "# Data loading"
   ]
  },
  {
   "cell_type": "code",
   "execution_count": 22,
   "id": "487259db",
   "metadata": {},
   "outputs": [],
   "source": [
    "df_trainval = pd.read_csv('data/train.csv')\n",
    "df_train, df_val = train_test_split(df_trainval, test_size=0.2, random_state=42)\n",
    "df_train['tags'] = df_train['tags'].apply(lambda x: np.array(list(map(int, x.split(',')))))\n",
    "df_val['tags'] = df_val['tags'].apply(lambda x: np.array(list(map(int, x.split(',')))))\n",
    "\n",
    "df_test = pd.read_csv('data/test.csv')"
   ]
  },
  {
   "cell_type": "code",
   "execution_count": 4,
   "id": "207ca2a1",
   "metadata": {},
   "outputs": [
    {
     "name": "stderr",
     "output_type": "stream",
     "text": [
      "100%|██████████| 76714/76714 [01:50<00:00, 693.91it/s] \n"
     ]
    }
   ],
   "source": [
    "max_len = 200\n",
    "global_idx2embeds = {} # {idx: np.ndarray[n, 768])}\n",
    "for npy_file in tqdm(glob('data/track_embeddings/*')):\n",
    "    track_idx = int(npy_file.split('\\\\')[1].split('.')[0])\n",
    "    embeds = np.load(npy_file)\n",
    "    global_idx2embeds[track_idx] = embeds[:min(len(embeds)-1, max_len)]"
   ]
  },
  {
   "cell_type": "code",
   "execution_count": 5,
   "metadata": {},
   "outputs": [
    {
     "name": "stderr",
     "output_type": "stream",
     "text": [
      "100%|██████████| 40907/40907 [00:36<00:00, 1117.00it/s]\n"
     ]
    },
    {
     "data": {
      "text/plain": [
       "(768,)"
      ]
     },
     "execution_count": 5,
     "metadata": {},
     "output_type": "execute_result"
    }
   ],
   "source": [
    "emb_train_mean = 0\n",
    "for track_idx in tqdm(df_train['track']):\n",
    "    emb_train_mean += global_idx2embeds[track_idx].mean(axis=0)\n",
    "emb_train_mean /= len(df_train['track'])\n",
    "emb_train_mean.shape"
   ]
  },
  {
   "cell_type": "code",
   "execution_count": 6,
   "id": "d838b48e",
   "metadata": {},
   "outputs": [],
   "source": [
    "class TrackDataset(torch.utils.data.Dataset):\n",
    "    def __init__(self, df_tags, test=False):\n",
    "        self.df_tags = df_tags\n",
    "        self.test = test\n",
    "\n",
    "    def __len__(self):\n",
    "        return len(self.df_tags)\n",
    "\n",
    "    def __getitem__(self, idx):\n",
    "        track_idx = self.df_tags.iloc[idx]['track']\n",
    "        embeds = global_idx2embeds[track_idx]\n",
    "        if self.test:\n",
    "            return track_idx, embeds\n",
    "        labels_onehot = np.zeros(256)\n",
    "        labels_onehot[self.df_tags.iloc[idx]['tags']] = 1\n",
    "        return track_idx, embeds, labels_onehot"
   ]
  },
  {
   "cell_type": "code",
   "execution_count": 23,
   "id": "85173d34",
   "metadata": {},
   "outputs": [],
   "source": [
    "def collate(batch):\n",
    "    track_idxs = torch.IntTensor(np.vstack([triplet[0] for triplet in batch]))\n",
    "    embeds_list = [torch.FloatTensor(triplet[1] - emb_train_mean).to(global_device) for triplet in batch]\n",
    "    embeds = pack_sequence(embeds_list, enforce_sorted=False).to(global_device)\n",
    "    labels_onehot = torch.FloatTensor(np.vstack([triplet[2] for triplet in batch])).to(global_device)\n",
    "    return track_idxs, embeds, labels_onehot\n",
    "\n",
    "def collate_test(batch):\n",
    "    track_idxs = torch.IntTensor(np.vstack([triplet[0] for triplet in batch]))\n",
    "    embeds_list = [torch.FloatTensor(triplet[1] - emb_train_mean) for triplet in batch]\n",
    "    embeds = pack_sequence(embeds_list, enforce_sorted=False).to(global_device)\n",
    "    return track_idxs, embeds\n",
    "\n",
    "batch_size = 64\n",
    "\n",
    "dataset_train = TrackDataset(df_train)\n",
    "dataloader_train = DataLoader(dataset_train, batch_size, shuffle=True, collate_fn=collate)\n",
    "\n",
    "dataset_val = TrackDataset(df_val)\n",
    "dataloader_val = DataLoader(dataset_val, batch_size, shuffle=False, collate_fn=collate)\n",
    "dataloader_val_astest = DataLoader(dataset_val, batch_size, shuffle=False, collate_fn=collate_test)\n",
    "\n",
    "dataset_test = TrackDataset(df_test, test=True)\n",
    "dataloader_test = DataLoader(dataset_test, batch_size, shuffle=False, collate_fn=collate_test)"
   ]
  },
  {
   "cell_type": "code",
   "execution_count": 26,
   "id": "68675c26",
   "metadata": {},
   "outputs": [],
   "source": [
    "class PositionalEncoding(nn.Module):\n",
    "\n",
    "    def __init__(self, d_model: int, dropout: float = 0.1, max_len: int = 500):\n",
    "        super().__init__()\n",
    "        self.dropout = nn.Dropout(p=dropout)\n",
    "\n",
    "        position = torch.arange(max_len).unsqueeze(1)\n",
    "        div_term = torch.exp(torch.arange(0, d_model, 2) * (-np.log(10000.0) / d_model))\n",
    "        pe = torch.zeros(1, max_len, d_model)\n",
    "        pe[0, :, 0::2] = torch.sin(position * div_term).unsqueeze(0)\n",
    "        pe[0, :, 1::2] = torch.cos(position * div_term).unsqueeze(0)\n",
    "        self.register_buffer('pe', pe)\n",
    "\n",
    "    def forward(self, x):\n",
    "        \"\"\"\n",
    "        Arguments:\n",
    "            x: Tensor, shape ``[seq_len, batch_size, embedding_dim]``\n",
    "        \"\"\"\n",
    "        x = x + self.pe[:, :x.size(1)]  #batch first\n",
    "        return self.dropout(x)\n",
    "\n",
    "\n",
    "class TrackToTags(pl.LightningModule):\n",
    "    def __init__(self, num_classes=256, input_dim=768, hidden_dim=512, dropout=0):\n",
    "        super().__init__()\n",
    "        self.num_classes = num_classes\n",
    "        self.pos_encoder = PositionalEncoding(input_dim, dropout, max_len=max_len)\n",
    "        self.transformer = nn.TransformerEncoder(\n",
    "            nn.TransformerEncoderLayer(\n",
    "                input_dim, nhead=4, dim_feedforward=hidden_dim, dropout=dropout, batch_first=True\n",
    "            ),\n",
    "            num_layers=3\n",
    "        )\n",
    "        # self.avg_pooling = nn.AdaptiveAvgPool1d(1)\n",
    "        self.bn = nn.LayerNorm(input_dim)\n",
    "        self.fc = nn.Linear(input_dim, num_classes)\n",
    "\n",
    "        self.loss = nn.BCEWithLogitsLoss()\n",
    "\n",
    "        self.metric = average_precision_score\n",
    "        self._transit_val = {'preds': [], 'labels': []}\n",
    "        self._transit_train = {'loss': []}\n",
    "        \n",
    "    def forward(self, embeds):\n",
    "        unpacked, lengths = pad_packed_sequence(embeds, batch_first=True)\n",
    "        x = self.pos_encoder(unpacked)\n",
    "        pad_mask = torch.BoolTensor(x.shape[:2]).to(global_device)\n",
    "        for i, l in enumerate(lengths):\n",
    "            pad_mask[i,:l] = False\n",
    "            pad_mask[i,l:] = True\n",
    "\n",
    "        trans_out = self.transformer(x, src_key_padding_mask=pad_mask)\n",
    "        x = [(v.sum(0)/length).unsqueeze(0) for v, length in zip(trans_out, lengths)]\n",
    "        x = torch.cat(x, dim = 0)\n",
    "        x = self.bn(x)\n",
    "        outs = self.fc(x)\n",
    "        return outs\n",
    "\n",
    "    def training_step(self, batch, batch_idx):\n",
    "        track_idxs, embeds_list, labels_onehot = batch\n",
    "        pred_logits = self(embeds_list)\n",
    "        loss = self.loss(pred_logits, labels_onehot)\n",
    "        self.log(\"train_loss\", loss, prog_bar=True)\n",
    "        self._transit_train['loss'].append(loss.cpu())\n",
    "        self.log(\"lr\", self.scheduler.get_last_lr()[-1], prog_bar=True)\n",
    "        return loss\n",
    "    \n",
    "    def validation_step(self, batch, batch_idx):\n",
    "        track_idxs, embeds_list, labels_onehot = batch\n",
    "        pred_logits = self(embeds_list)\n",
    "        loss = self.loss(pred_logits, labels_onehot)\n",
    "        self.log(\"val_loss\", loss, prog_bar=True)\n",
    "        \n",
    "        pred_probs = torch.sigmoid(pred_logits)\n",
    "        self._transit_val['labels'].append(np.array(labels_onehot.int().cpu()))\n",
    "        self._transit_val['preds'].append(np.array(pred_probs.cpu()))\n",
    "\n",
    "    def on_validation_epoch_end(self):\n",
    "        preds = np.vstack(self._transit_val['preds'])\n",
    "        labels = np.vstack(self._transit_val['labels'])\n",
    "        ap = self.metric(labels, preds)\n",
    "        self.log('val_ap', ap, prog_bar=True)\n",
    "        epoch_train_loss = np.mean(self._transit_train['loss'])\n",
    "        self.log('etr_loss', epoch_train_loss, prog_bar=True)\n",
    "        self._transit_val['labels'] = []\n",
    "        self._transit_val['preds'] = []\n",
    "        self._transit_train['loss'] = []\n",
    "\n",
    "    def configure_optimizers(self):\n",
    "        optimizer = torch.optim.Adam(self.parameters(), lr=1e-4)\n",
    "        self.scheduler = torch.optim.lr_scheduler.ExponentialLR(optimizer, 0.7)\n",
    "        # warmup_steps = 128\n",
    "        # def warmup(current_step: int):\n",
    "        #     if current_step < warmup_steps:\n",
    "        #         return current_step/warmup_steps\n",
    "        #     else:\n",
    "        #         return np.sqrt(warmup_steps/current_step)\n",
    "        # self.scheduler = torch.optim.lr_scheduler.LambdaLR(optimizer, lr_lambda=warmup)\n",
    "        return {\"optimizer\": optimizer,\n",
    "                \"lr_scheduler\": {\n",
    "                                \"scheduler\": self.scheduler,\n",
    "                                \"interval\": \"epoch\",\n",
    "                                \"frequency\": 5\n",
    "                                },\n",
    "               }"
   ]
  },
  {
   "cell_type": "code",
   "execution_count": 27,
   "id": "61f1dc1d",
   "metadata": {
    "scrolled": false
   },
   "outputs": [
    {
     "name": "stderr",
     "output_type": "stream",
     "text": [
      "GPU available: True (cuda), used: True\n",
      "TPU available: False, using: 0 TPU cores\n",
      "IPU available: False, using: 0 IPUs\n",
      "HPU available: False, using: 0 HPUs\n",
      "`Trainer(val_check_interval=1.0)` was configured so validation will run at the end of the training epoch..\n"
     ]
    },
    {
     "name": "stderr",
     "output_type": "stream",
     "text": [
      "LOCAL_RANK: 0 - CUDA_VISIBLE_DEVICES: [0]\n",
      "\n",
      "  | Name        | Type               | Params\n",
      "---------------------------------------------------\n",
      "0 | pos_encoder | PositionalEncoding | 0     \n",
      "1 | transformer | TransformerEncoder | 11.8 M\n",
      "2 | bn          | LayerNorm          | 1.5 K \n",
      "3 | fc          | Linear             | 196 K \n",
      "4 | loss        | BCEWithLogitsLoss  | 0     \n",
      "---------------------------------------------------\n",
      "12.0 M    Trainable params\n",
      "0         Non-trainable params\n",
      "12.0 M    Total params\n",
      "48.075    Total estimated model params size (MB)\n"
     ]
    },
    {
     "name": "stdout",
     "output_type": "stream",
     "text": [
      "Epoch 7:   7%|▋         | 44/640 [00:33<07:38,  1.30it/s, v_num=284, train_loss=0.0701, lr=7e-5, val_loss=0.0682, val_ap=0.0291, etr_loss=0.0688]   "
     ]
    }
   ],
   "source": [
    "checkpoint_callback = ModelCheckpoint(dirpath='lightning_logs/trans_accum2048_wowarm/',\n",
    "                                      filename='{epoch}-{etr_loss:.3f}-{val_loss:.3f}-{val_ap:.3f}', \n",
    "                                      save_top_k=-1, \n",
    "                                      monitor=\"val_ap\", \n",
    "                                      every_n_epochs=1)\n",
    "trainer = pl.Trainer(accelerator=\"gpu\", devices=1, val_check_interval=1.0, \n",
    "                     max_epochs=30, log_every_n_steps=100,\n",
    "                     accumulate_grad_batches=2048//batch_size,\n",
    "                     callbacks=[checkpoint_callback])\n",
    "model = TrackToTags(dropout=0.2, hidden_dim=1024)\n",
    "trainer.fit(model, dataloader_train, dataloader_val)"
   ]
  },
  {
   "cell_type": "code",
   "execution_count": 117,
   "metadata": {},
   "outputs": [
    {
     "name": "stdout",
     "output_type": "stream",
     "text": [
      "Epoch 1:  18%|█▊        | 56/320 [8:36:18<40:34:00,  0.00it/s, v_num=252, train_loss=0.066, lr=0.0001, val_loss=0.193, val_ap=0.0318]\n",
      "Epoch 1:  26%|██▌       | 83/320 [8:21:31<23:52:03,  0.00it/s, v_num=253, train_loss=0.0689, lr=0.0002, val_loss=0.224, val_ap=0.0233]\n",
      "Epoch 1:   6%|▋         | 4/63 [8:15:35<121:49:54,  0.00it/s, v_num=255, train_loss=0.171, lr=0.0002, val_loss=0.317, val_ap=0.0206]\n",
      "Epoch 0:   3%|▎         | 2/63 [8:10:13<249:11:37,  0.00it/s, v_num=257, train_loss=0.875, lr=0.0002]\n",
      "Epoch 1:  84%|████████▍ | 53/63 [8:04:26<1:31:24,  0.00it/s, v_num=258, train_loss=0.0829, lr=0.0002, val_loss=0.338, val_ap=0.0226]\n",
      "Epoch 2:  37%|███▋      | 23/63 [7:47:19<13:32:44,  0.00it/s, v_num=259, train_loss=0.0808, lr=0.0002, val_loss=0.095, val_ap=0.0259]\n",
      "Epoch 0:   6%|▌         | 19/320 [7:41:50<121:56:29,  0.00it/s, v_num=260, train_loss=0.582, lr=0.0002]\n",
      "Epoch 0:   4%|▎         | 23/640 [7:39:55<205:37:52,  0.00it/s, v_num=261, train_loss=0.530, lr=0.0002]\n",
      "Epoch 24:  14%|█▍        | 90/640 [3:18:34<20:13:32,  0.01it/s, v_num=262, train_loss=0.0354, lr=4.8e-5, val_loss=0.047, val_ap=0.216]\n",
      "Epoch 0:   3%|▎         | 22/640 [3:13:53<90:46:21,  0.00it/s, v_num=266, train_loss=0.0392, lr=0.0002]\n",
      "Epoch 0:  13%|█▎        | 21/160 [3:12:05<21:11:29,  0.00it/s, v_num=267, train_loss=0.538, lr=0.0002]\n",
      "Epoch 0:  80%|████████  | 512/640 [3:03:12<45:48,  0.05it/s, v_num=268, train_loss=0.0676, lr=7.97e-5]\n",
      "Epoch 0:   4%|▎         | 23/640 [2:56:42<79:00:36,  0.00it/s, v_num=270, train_loss=0.168, lr=0.000141]\n"
     ]
    }
   ],
   "source": [
    "import gc\n",
    "gc.collect()\n",
    "torch.cuda.empty_cache()"
   ]
  },
  {
   "cell_type": "code",
   "execution_count": 104,
   "metadata": {},
   "outputs": [
    {
     "name": "stderr",
     "output_type": "stream",
     "text": [
      "GPU available: True (cuda), used: True\n",
      "TPU available: False, using: 0 TPU cores\n",
      "IPU available: False, using: 0 IPUs\n",
      "HPU available: False, using: 0 HPUs\n",
      "`Trainer(val_check_interval=1.0)` was configured so validation will run at the end of the training epoch..\n",
      "LOCAL_RANK: 0 - CUDA_VISIBLE_DEVICES: [0]\n"
     ]
    },
    {
     "name": "stderr",
     "output_type": "stream",
     "text": [
      "\n",
      "  | Name        | Type               | Params\n",
      "---------------------------------------------------\n",
      "0 | pos_encoder | PositionalEncoding | 0     \n",
      "1 | transformer | TransformerEncoder | 7.9 M \n",
      "2 | bn          | LayerNorm          | 1.5 K \n",
      "3 | fc          | Linear             | 196 K \n",
      "4 | loss        | BCEWithLogitsLoss  | 0     \n",
      "---------------------------------------------------\n",
      "8.1 M     Trainable params\n",
      "0         Non-trainable params\n",
      "8.1 M     Total params\n",
      "32.314    Total estimated model params size (MB)\n"
     ]
    },
    {
     "name": "stdout",
     "output_type": "stream",
     "text": [
      "Epoch 0:   3%|▎         | 22/640 [00:12<05:44,  1.80it/s, v_num=266, train_loss=0.0392, lr=0.0002]"
     ]
    }
   ],
   "source": [
    "# model = TrackToTags.load_from_checkpoint('lightning_logs/trans_pos/epoch=22-val_loss=0.047-val_ap=0.220.ckpt',\n",
    "#                                           dropout=0.2, hidden_dim=1024)\n",
    "checkpoint_callback = ModelCheckpoint(dirpath='lightning_logs/trans_pos/',\n",
    "                                      filename='{epoch}-{val_loss:.3f}-{val_ap:.3f}', \n",
    "                                      save_top_k=-1, \n",
    "                                      monitor=\"val_ap\", \n",
    "                                      every_n_epochs=1)\n",
    "trainer = pl.Trainer(accelerator=\"gpu\", devices=1, val_check_interval=1.0, \n",
    "                     max_epochs=30, log_every_n_steps=100,\n",
    "                     callbacks=[checkpoint_callback])\n",
    "# model = TrackToTags(dropout=0.2, hidden_dim=1024)\n",
    "trainer.fit(model, dataloader_train, dataloader_val)"
   ]
  },
  {
   "cell_type": "code",
   "execution_count": 16,
   "metadata": {},
   "outputs": [
    {
     "name": "stderr",
     "output_type": "stream",
     "text": [
      "GPU available: True (cuda), used: True\n",
      "TPU available: False, using: 0 TPU cores\n",
      "IPU available: False, using: 0 IPUs\n",
      "HPU available: False, using: 0 HPUs\n",
      "`Trainer(val_check_interval=1.0)` was configured so validation will run at the end of the training epoch..\n",
      "LOCAL_RANK: 0 - CUDA_VISIBLE_DEVICES: [0]\n",
      "\n",
      "  | Name        | Type               | Params\n",
      "---------------------------------------------------\n",
      "0 | bn          | LayerNorm          | 1.0 K \n",
      "1 | projector   | Linear             | 393 K \n",
      "2 | fc          | Linear             | 131 K \n",
      "3 | transformer | TransformerEncoder | 3.2 M \n",
      "4 | avg_pooling | AdaptiveAvgPool1d  | 0     \n",
      "5 | loss        | BCEWithLogitsLoss  | 0     \n",
      "---------------------------------------------------\n",
      "3.7 M     Trainable params\n",
      "0         Non-trainable params\n",
      "3.7 M     Total params\n",
      "14.728    Total estimated model params size (MB)\n"
     ]
    },
    {
     "name": "stdout",
     "output_type": "stream",
     "text": [
      "Epoch 43:  40%|████      | 32/80 [00:07<00:11,  4.26it/s, v_num=166, train_loss=0.0465, val_loss=0.0576, val_ap=0.0988]"
     ]
    }
   ],
   "source": [
    "checkpoint_callback = ModelCheckpoint(dirpath='lightning_logs/transformer512_2l_4heads_2/',\n",
    "                                      filename='{epoch}-{val_loss:.3f}-{val_ap:.3f}', \n",
    "                                      save_top_k=-1, \n",
    "                                      monitor=\"val_ap\", \n",
    "                                      every_n_epochs=1)\n",
    "trainer = pl.Trainer(accelerator=\"gpu\", devices=1, val_check_interval=1.0, \n",
    "                     max_epochs=50, log_every_n_steps=100,\n",
    "                     callbacks=[checkpoint_callback])\n",
    "trainer.fit(model, dataloader_train, dataloader_val)"
   ]
  },
  {
   "cell_type": "code",
   "execution_count": 12,
   "id": "f2eddd31",
   "metadata": {},
   "outputs": [],
   "source": [
    "def predict(model, loader):\n",
    "    model.to(global_device)\n",
    "    model.eval()\n",
    "    track_idxs = []\n",
    "    predictions = []\n",
    "    with torch.no_grad():\n",
    "        for data in loader:\n",
    "            track_idx, embeds = data\n",
    "            # embeds = [x.to(global_device) for x in embeds]\n",
    "            pred_logits = model(embeds)\n",
    "            pred_probs = torch.sigmoid(pred_logits)\n",
    "            predictions.append(pred_probs.cpu().numpy())\n",
    "            track_idxs.append(track_idx.numpy())\n",
    "    predictions = np.vstack(predictions)\n",
    "    track_idxs = np.vstack(track_idxs).ravel()\n",
    "    return track_idxs, predictions"
   ]
  },
  {
   "cell_type": "code",
   "execution_count": 13,
   "id": "7fa9a03b",
   "metadata": {},
   "outputs": [
    {
     "data": {
      "text/plain": [
       "0.0976463191074462"
      ]
     },
     "execution_count": 13,
     "metadata": {},
     "output_type": "execute_result"
    }
   ],
   "source": [
    "val_true = np.array([y[2] for y in dataset_val])\n",
    "track_idxs_val, val_pred = predict(model, dataloader_val_astest)\n",
    "average_precision_score(val_true, val_pred)"
   ]
  },
  {
   "cell_type": "code",
   "execution_count": 14,
   "id": "067b1acb",
   "metadata": {},
   "outputs": [],
   "source": [
    "track_idxs, predictions = predict(model.to(global_device), dataloader_test)"
   ]
  },
  {
   "cell_type": "code",
   "execution_count": 15,
   "id": "718719fa",
   "metadata": {
    "scrolled": true
   },
   "outputs": [],
   "source": [
    "predictions_df = pd.DataFrame([\n",
    "    {'track': track, 'prediction': ','.join([str(p) for p in probs])}\n",
    "    for track, probs in zip(track_idxs, predictions)\n",
    "])\n",
    "predictions_df.to_csv('results/prediction.csv', index=False)"
   ]
  },
  {
   "cell_type": "code",
   "execution_count": null,
   "id": "9fa9facf",
   "metadata": {},
   "outputs": [],
   "source": []
  },
  {
   "cell_type": "code",
   "execution_count": null,
   "id": "dd1eef3c",
   "metadata": {},
   "outputs": [],
   "source": []
  },
  {
   "cell_type": "code",
   "execution_count": null,
   "id": "4e55263a",
   "metadata": {},
   "outputs": [],
   "source": []
  },
  {
   "cell_type": "code",
   "execution_count": null,
   "id": "12ed891a",
   "metadata": {},
   "outputs": [],
   "source": []
  },
  {
   "cell_type": "code",
   "execution_count": null,
   "id": "a0ae1d3e",
   "metadata": {},
   "outputs": [],
   "source": []
  },
  {
   "cell_type": "code",
   "execution_count": 33,
   "id": "fb736f83",
   "metadata": {},
   "outputs": [],
   "source": [
    "df = pd.read_csv('lightning_logs/version_25/metrics.csv')"
   ]
  },
  {
   "cell_type": "code",
   "execution_count": 34,
   "id": "aeb61710",
   "metadata": {},
   "outputs": [
    {
     "data": {
      "image/png": "[encoded data removed]",
      "text/plain": [
       "<Figure size 640x480 with 1 Axes>"
      ]
     },
     "metadata": {},
     "output_type": "display_data"
    }
   ],
   "source": [
    "plt.plot(df['step'], df['train_loss'])\n",
    "plt.xlabel('Train Step')\n",
    "plt.ylabel('Train Loss')\n",
    "plt.yscale('log')"
   ]
  },
  {
   "cell_type": "code",
   "execution_count": 44,
   "id": "ce21d16a",
   "metadata": {},
   "outputs": [
    {
     "data": {
      "image/png": "[encoded data removed]",
      "text/plain": [
       "<Figure size 640x480 with 1 Axes>"
      ]
     },
     "metadata": {},
     "output_type": "display_data"
    }
   ],
   "source": [
    "plt.plot(df['val_ap'].dropna())\n",
    "plt.xlabel('Train Step')\n",
    "plt.ylabel('Train Loss')\n",
    "plt.yscale('log')"
   ]
  },
  {
   "cell_type": "code",
   "execution_count": null,
   "id": "5abf21a9",
   "metadata": {},
   "outputs": [],
   "source": []
  },
  {
   "cell_type": "code",
   "execution_count": null,
   "id": "1f1c6e58",
   "metadata": {},
   "outputs": [],
   "source": []
  }
 ],
 "metadata": {
  "kernelspec": {
   "display_name": "Python 3 (ipykernel)",
   "language": "python",
   "name": "python3"
  },
  "language_info": {
   "codemirror_mode": {
    "name": "ipython",
    "version": 3
   },
   "file_extension": ".py",
   "mimetype": "text/x-python",
   "name": "python",
   "nbconvert_exporter": "python",
   "pygments_lexer": "ipython3",
   "version": "3.11.5"
  }
 },
 "nbformat": 4,
 "nbformat_minor": 5
}
